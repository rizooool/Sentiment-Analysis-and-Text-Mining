{
  "nbformat": 4,
  "nbformat_minor": 0,
  "metadata": {
    "colab": {
      "provenance": []
    },
    "kernelspec": {
      "name": "python3",
      "display_name": "Python 3"
    },
    "language_info": {
      "name": "python"
    }
  },
  "cells": [
    {
      "cell_type": "code",
      "execution_count": 43,
      "metadata": {
        "id": "OZIwkp0NAGZP"
      },
      "outputs": [],
      "source": [
        "#Question 1 : The Road Trip Planner"
      ]
    },
    {
      "cell_type": "code",
      "source": [
        "fuel_efficiency = 11.5\n",
        "\n",
        "total_distance = 475\n",
        "\n",
        "fuel_price =  1.65\n",
        "\n",
        "tank_capacity = 50"
      ],
      "metadata": {
        "id": "O06wFU7_KMc2"
      },
      "execution_count": 44,
      "outputs": []
    },
    {
      "cell_type": "code",
      "source": [
        "#A :How many liters of fuel will you need for the entire trip?\n",
        "# Fuel needed = total distance / fuel efficiency\n",
        "fuel_needed = 475 / 11.5\n",
        "print(f\" fuel_needed: {fuel_needed} litres\")"
      ],
      "metadata": {
        "colab": {
          "base_uri": "https://localhost:8080/"
        },
        "id": "8DhJLHS_CI3k",
        "outputId": "32442c26-fccb-4c87-f71b-86e6901b3e4e"
      },
      "execution_count": 19,
      "outputs": [
        {
          "output_type": "stream",
          "name": "stdout",
          "text": [
            " fuel_needed: 41.30434782608695 litres\n"
          ]
        }
      ]
    },
    {
      "cell_type": "code",
      "source": [
        "#B :Full tanks of fuel needed\n",
        "# Full tanks = fuel needed / tank capacity\n",
        "full_tanks = fuel_needed // 50\n",
        "print(full_tanks)"
      ],
      "metadata": {
        "colab": {
          "base_uri": "https://localhost:8080/"
        },
        "id": "ommpZwdJCmqg",
        "outputId": "33f7f580-fc6f-4b18-9fb2-d4a54616eb52"
      },
      "execution_count": 11,
      "outputs": [
        {
          "output_type": "stream",
          "name": "stdout",
          "text": [
            "0.0\n"
          ]
        }
      ]
    },
    {
      "cell_type": "code",
      "source": [
        "#3 :Total estimated fuel cost\n",
        "# Total cost = fuel needed * fuel price\n",
        "total_cost = fuel_needed * 1.65\n",
        "print(f\" total_cost:$ {total_cost:}\")"
      ],
      "metadata": {
        "colab": {
          "base_uri": "https://localhost:8080/"
        },
        "id": "8JrgZTLXC_q7",
        "outputId": "332e237d-fcb8-4d54-f4d0-2487bc8f53d6"
      },
      "execution_count": 16,
      "outputs": [
        {
          "output_type": "stream",
          "name": "stdout",
          "text": [
            " total_cost:$ 68.15217391304347\n"
          ]
        }
      ]
    },
    {
      "cell_type": "code",
      "source": [
        "#4: Remaining fuel in tank\n",
        "# Remaining fuel = 50 - fuel needed\n",
        "remaining_fuel = 50 - fuel_needed\n",
        "print(f\" remaining_fuel: {remaining_fuel} litres\")"
      ],
      "metadata": {
        "colab": {
          "base_uri": "https://localhost:8080/"
        },
        "id": "uEVPGIsAEEA0",
        "outputId": "0b7ab735-5798-4924-a82f-93be831e99ee"
      },
      "execution_count": 21,
      "outputs": [
        {
          "output_type": "stream",
          "name": "stdout",
          "text": [
            " remaining_fuel: 8.695652173913047 litres\n"
          ]
        }
      ]
    },
    {
      "cell_type": "code",
      "source": [
        "#Question 2: Theme Park Entry Rules\n"
      ],
      "metadata": {
        "collapsed": true,
        "id": "mkd-m2FaFAYh"
      },
      "execution_count": null,
      "outputs": []
    },
    {
      "cell_type": "code",
      "source": [
        "#A age = 30\n",
        "is_weekday = True\n",
        "is_family_day = False\n",
        "group_size = 3\n",
        "eligible = (age <= 12 and is_weekday) or (age >= 65) or (is_family_day and group_size >= 4)\n",
        "print(eligible)"
      ],
      "metadata": {
        "colab": {
          "base_uri": "https://localhost:8080/"
        },
        "id": "fv6-aE8DFKz1",
        "outputId": "558686ee-b106-414b-fcb3-d68937e8a679"
      },
      "execution_count": 27,
      "outputs": [
        {
          "output_type": "stream",
          "name": "stdout",
          "text": [
            "False\n"
          ]
        }
      ]
    },
    {
      "cell_type": "markdown",
      "source": [
        "Thy person is not a child or senior and it's not family day. So, not eligible.\n",
        "\n"
      ],
      "metadata": {
        "id": "RDI6wqgPGEIY"
      }
    },
    {
      "cell_type": "code",
      "source": [
        "#B\n",
        "age = 10\n",
        "is_weekday = True\n",
        "is_family_day = False\n",
        "group_size = 2\n",
        "\n",
        "eligible = (age <= 12 and is_weekday) or (age >= 65) or (is_family_day and group_size >= 4)\n",
        "print(eligible)"
      ],
      "metadata": {
        "colab": {
          "base_uri": "https://localhost:8080/"
        },
        "id": "6Ivem9ooF-jR",
        "outputId": "0835510d-4840-4382-d578-b8fb4f17d893"
      },
      "execution_count": 28,
      "outputs": [
        {
          "output_type": "stream",
          "name": "stdout",
          "text": [
            "True\n"
          ]
        }
      ]
    },
    {
      "cell_type": "markdown",
      "source": [
        "The person is 10 and it's a weekday, so he/she is eligible"
      ],
      "metadata": {
        "id": "12rOSTSqGUnh"
      }
    },
    {
      "cell_type": "code",
      "source": [
        "#C Evaluation explanation\n",
        "age <= 12: True (age = 10)\n",
        "\n",
        "is_weekday: True\n",
        "\n",
        "So, (age <= 12 and is_weekday) → True\n",
        "\n",
        "Other two conditions: False\n",
        "\n",
        "Final result: True or False or False = True"
      ],
      "metadata": {
        "id": "gUfNpou8Gzpf"
      },
      "execution_count": null,
      "outputs": []
    },
    {
      "cell_type": "code",
      "source": [
        "#Question 3 : Message Decoder"
      ],
      "metadata": {
        "id": "Id9hO-DMGbQg"
      },
      "execution_count": 29,
      "outputs": []
    },
    {
      "cell_type": "code",
      "source": [
        "secret_message = \"PyThoN_Is_FuN_AnD_PoWeRfUl!\""
      ],
      "metadata": {
        "id": "SRTwdUA_GidY"
      },
      "execution_count": 34,
      "outputs": []
    },
    {
      "cell_type": "code",
      "source": [
        "#A\n",
        "print(secret_message[5])"
      ],
      "metadata": {
        "colab": {
          "base_uri": "https://localhost:8080/"
        },
        "id": "kDecKXTXHCGS",
        "outputId": "d0418571-c3fa-40bc-9b06-1b502eab1ad3"
      },
      "execution_count": 36,
      "outputs": [
        {
          "output_type": "stream",
          "name": "stdout",
          "text": [
            "N\n"
          ]
        }
      ]
    },
    {
      "cell_type": "markdown",
      "source": [
        "Indexing starts at 0. So, index 5 = 6th character."
      ],
      "metadata": {
        "id": "_Pb-JWfhHULX"
      }
    },
    {
      "cell_type": "code",
      "source": [
        "#B\n",
        "substring = secret_message[7:13]\n",
        "print(substring)"
      ],
      "metadata": {
        "colab": {
          "base_uri": "https://localhost:8080/"
        },
        "id": "86f7DsUXHISr",
        "outputId": "e097c500-07dd-4096-a038-8823297157d2"
      },
      "execution_count": 38,
      "outputs": [
        {
          "output_type": "stream",
          "name": "stdout",
          "text": [
            "Is_FuN\n"
          ]
        }
      ]
    },
    {
      "cell_type": "markdown",
      "source": [
        "Start at index 7 (I) to 12 (N) (Positive Indexing)"
      ],
      "metadata": {
        "id": "RB9n1kTmHkGJ"
      }
    },
    {
      "cell_type": "code",
      "source": [
        "#C -\n",
        "substring = secret_message[-9:-1]\n",
        "print(substring)"
      ],
      "metadata": {
        "colab": {
          "base_uri": "https://localhost:8080/"
        },
        "id": "uqT-cstwHZF8",
        "outputId": "9a4d8d6c-cfc9-469c-9f47-4cdfef436466"
      },
      "execution_count": 39,
      "outputs": [
        {
          "output_type": "stream",
          "name": "stdout",
          "text": [
            "PoWeRfUl\n"
          ]
        }
      ]
    },
    {
      "cell_type": "markdown",
      "source": [
        "Negative indexing counts from the end. -9 is 'P', -1 is '!' (which is excluded)\n"
      ],
      "metadata": {
        "id": "FYOh-IOfIGqJ"
      }
    },
    {
      "cell_type": "code",
      "source": [
        "#D\n",
        "result = secret_message[::4]\n",
        "print(result)"
      ],
      "metadata": {
        "colab": {
          "base_uri": "https://localhost:8080/"
        },
        "id": "-aCue6BAH2RJ",
        "outputId": "31e60049-3b88-4b0b-fde6-c31d992f2753"
      },
      "execution_count": 41,
      "outputs": [
        {
          "output_type": "stream",
          "name": "stdout",
          "text": [
            "PosNDWU\n"
          ]
        }
      ]
    },
    {
      "cell_type": "markdown",
      "source": [
        "Slicing with step 4 picks every 4th character from index 0."
      ],
      "metadata": {
        "id": "WDSESnjmI1-O"
      }
    },
    {
      "cell_type": "code",
      "source": [
        "#E\n",
        "print(secret_message[50])"
      ],
      "metadata": {
        "colab": {
          "base_uri": "https://localhost:8080/",
          "height": 158
        },
        "id": "FkDJDZH2I3Ek",
        "outputId": "d8d0d42e-206f-4f22-d550-59602fa9bea8"
      },
      "execution_count": 42,
      "outputs": [
        {
          "output_type": "error",
          "ename": "IndexError",
          "evalue": "string index out of range",
          "traceback": [
            "\u001b[0;31m---------------------------------------------------------------------------\u001b[0m",
            "\u001b[0;31mIndexError\u001b[0m                                Traceback (most recent call last)",
            "\u001b[0;32m<ipython-input-42-6f0e24cb9e0a>\u001b[0m in \u001b[0;36m<cell line: 0>\u001b[0;34m()\u001b[0m\n\u001b[1;32m      1\u001b[0m \u001b[0;31m#E\u001b[0m\u001b[0;34m\u001b[0m\u001b[0;34m\u001b[0m\u001b[0m\n\u001b[0;32m----> 2\u001b[0;31m \u001b[0mprint\u001b[0m\u001b[0;34m(\u001b[0m\u001b[0msecret_message\u001b[0m\u001b[0;34m[\u001b[0m\u001b[0;36m50\u001b[0m\u001b[0;34m]\u001b[0m\u001b[0;34m)\u001b[0m\u001b[0;34m\u001b[0m\u001b[0;34m\u001b[0m\u001b[0m\n\u001b[0m",
            "\u001b[0;31mIndexError\u001b[0m: string index out of range"
          ]
        }
      ]
    },
    {
      "cell_type": "markdown",
      "source": [
        "Error saing \"  string index out of range\" as the string is shorter than 50 characters, it results in an error."
      ],
      "metadata": {
        "id": "tucsDPJoJanG"
      }
    },
    {
      "cell_type": "code",
      "source": [
        "# Question 4: Predict and Verify\n",
        "#i. Predict whether the expression will evaluate to True or False before running it.\n",
        "#ii. Write down the Python expression.\n",
        "#iii. State the actual result Python gives.\n",
        "#iv. If your prediction was incorrect, briefly explain what you misunderstood."
      ],
      "metadata": {
        "id": "ucESxfxfJBsq"
      },
      "execution_count": 48,
      "outputs": []
    },
    {
      "cell_type": "code",
      "source": [
        "x = 15\n",
        "y = 25\n",
        "z = 15\n",
        "text = \"adventure\""
      ],
      "metadata": {
        "id": "p8SjGDcsKS5S"
      },
      "execution_count": 46,
      "outputs": []
    },
    {
      "cell_type": "code",
      "source": [
        "#A\n",
        "(x == z) and (y > x)"
      ],
      "metadata": {
        "colab": {
          "base_uri": "https://localhost:8080/"
        },
        "id": "NTIOwvmkKXPp",
        "outputId": "d2e547a8-885f-4645-8916-dd7cc25b38c9"
      },
      "execution_count": 47,
      "outputs": [
        {
          "output_type": "execute_result",
          "data": {
            "text/plain": [
              "True"
            ]
          },
          "metadata": {},
          "execution_count": 47
        }
      ]
    },
    {
      "cell_type": "markdown",
      "source": [
        "x equals z → True\n",
        "\n",
        "y > x → True\n",
        "\n",
        "→ Final: True and True = True"
      ],
      "metadata": {
        "id": "KrS_sXKJLAIf"
      }
    },
    {
      "cell_type": "code",
      "source": [
        "#B\n",
        "(x != z) or (y < x) or (len(text) < 5)"
      ],
      "metadata": {
        "colab": {
          "base_uri": "https://localhost:8080/"
        },
        "id": "sp4kYo6sLBZd",
        "outputId": "5ab73a0a-0afa-4304-eea3-87c8694c1c93"
      },
      "execution_count": 49,
      "outputs": [
        {
          "output_type": "execute_result",
          "data": {
            "text/plain": [
              "False"
            ]
          },
          "metadata": {},
          "execution_count": 49
        }
      ]
    },
    {
      "cell_type": "markdown",
      "source": [
        "All parts are False, so final result is False."
      ],
      "metadata": {
        "id": "lqYwjfqILaN9"
      }
    },
    {
      "cell_type": "code",
      "source": [
        "#C\n",
        "not ((x > y) and (text == \"Adventure\"))"
      ],
      "metadata": {
        "colab": {
          "base_uri": "https://localhost:8080/"
        },
        "id": "JaiJnUphLaxY",
        "outputId": "222011ce-c46a-46a4-e247-d3343c3871ee"
      },
      "execution_count": 50,
      "outputs": [
        {
          "output_type": "execute_result",
          "data": {
            "text/plain": [
              "True"
            ]
          },
          "metadata": {},
          "execution_count": 50
        }
      ]
    },
    {
      "cell_type": "markdown",
      "source": [
        "x > y → False\n",
        "\n",
        "text == \"Adventure\" → False (case-sensitive)\n",
        "\n",
        "False and False = False\n",
        "\n",
        "not False = True"
      ],
      "metadata": {
        "id": "ChX_HzPHMjSQ"
      }
    },
    {
      "cell_type": "code",
      "source": [
        "#Question 5: User Profile Setup"
      ],
      "metadata": {
        "id": "wjLAd2wqMi5R"
      },
      "execution_count": null,
      "outputs": []
    },
    {
      "cell_type": "code",
      "source": [
        "#A\n",
        "username = \"MyUser123\"\n",
        "username[0] = 'm'"
      ],
      "metadata": {
        "colab": {
          "base_uri": "https://localhost:8080/",
          "height": 176
        },
        "id": "5EoacuItMFkK",
        "outputId": "0e133a18-2ad2-47e9-efb7-56491ded5aa8"
      },
      "execution_count": 54,
      "outputs": [
        {
          "output_type": "error",
          "ename": "TypeError",
          "evalue": "'str' object does not support item assignment",
          "traceback": [
            "\u001b[0;31m---------------------------------------------------------------------------\u001b[0m",
            "\u001b[0;31mTypeError\u001b[0m                                 Traceback (most recent call last)",
            "\u001b[0;32m<ipython-input-54-0b0b80a6356c>\u001b[0m in \u001b[0;36m<cell line: 0>\u001b[0;34m()\u001b[0m\n\u001b[1;32m      1\u001b[0m \u001b[0;31m#A\u001b[0m\u001b[0;34m\u001b[0m\u001b[0;34m\u001b[0m\u001b[0m\n\u001b[1;32m      2\u001b[0m \u001b[0musername\u001b[0m \u001b[0;34m=\u001b[0m \u001b[0;34m\"MyUser123\"\u001b[0m\u001b[0;34m\u001b[0m\u001b[0;34m\u001b[0m\u001b[0m\n\u001b[0;32m----> 3\u001b[0;31m \u001b[0musername\u001b[0m\u001b[0;34m[\u001b[0m\u001b[0;36m0\u001b[0m\u001b[0;34m]\u001b[0m \u001b[0;34m=\u001b[0m \u001b[0;34m'm'\u001b[0m\u001b[0;34m\u001b[0m\u001b[0;34m\u001b[0m\u001b[0m\n\u001b[0m",
            "\u001b[0;31mTypeError\u001b[0m: 'str' object does not support item assignment"
          ]
        }
      ]
    },
    {
      "cell_type": "markdown",
      "source": [
        "Strings are unchangeble in Python. You can’t change a character by index."
      ],
      "metadata": {
        "id": "HysENmV-NNf6"
      }
    },
    {
      "cell_type": "code",
      "source": [
        "#B\n",
        "quote = \" practice makes perfect \"\n",
        "formatted_quote = quote.strip().upper().replace(\"PERFECT\", \"PROGRESS\")\n",
        "print(formatted_quote)"
      ],
      "metadata": {
        "colab": {
          "base_uri": "https://localhost:8080/"
        },
        "id": "3NBFWtTQNQUL",
        "outputId": "be846503-a2ca-4a7c-94ae-6d3861534c1a"
      },
      "execution_count": 55,
      "outputs": [
        {
          "output_type": "stream",
          "name": "stdout",
          "text": [
            "PRACTICE MAKES PROGRESS\n"
          ]
        }
      ]
    },
    {
      "cell_type": "markdown",
      "source": [
        ".strip() → removes spaces from start/end\n",
        "\n",
        ".upper() → all caps\n",
        "\n",
        ".replace() → swaps \"PERFECT\" with \"PROGRESS\""
      ],
      "metadata": {
        "id": "R8tW5vC8OEze"
      }
    },
    {
      "cell_type": "code",
      "source": [
        "#C\n",
        "print(len(quote))\n",
        "print(len(formatted_quote))"
      ],
      "metadata": {
        "colab": {
          "base_uri": "https://localhost:8080/"
        },
        "id": "6vpqjxPPOFtc",
        "outputId": "69e3d3ee-2272-4f1f-cf4e-3af3ec5a60b4"
      },
      "execution_count": 56,
      "outputs": [
        {
          "output_type": "stream",
          "name": "stdout",
          "text": [
            "24\n",
            "23\n"
          ]
        }
      ]
    },
    {
      "cell_type": "markdown",
      "source": [
        "Original has 24 characters including spaces. After formatting, it has 23.\n"
      ],
      "metadata": {
        "id": "ITIawjB_OVPx"
      }
    },
    {
      "cell_type": "code",
      "source": [],
      "metadata": {
        "id": "14WkHxnWOWVv"
      },
      "execution_count": null,
      "outputs": []
    }
  ]
}