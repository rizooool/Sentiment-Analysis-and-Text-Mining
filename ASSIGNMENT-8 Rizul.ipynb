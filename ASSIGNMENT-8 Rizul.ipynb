{
  "nbformat": 4,
  "nbformat_minor": 0,
  "metadata": {
    "colab": {
      "provenance": []
    },
    "kernelspec": {
      "name": "python3",
      "display_name": "Python 3"
    },
    "language_info": {
      "name": "python"
    }
  },
  "cells": [
    {
      "cell_type": "code",
      "execution_count": 14,
      "metadata": {
        "colab": {
          "base_uri": "https://localhost:8080/"
        },
        "id": "CzeGeDZaQ0Yv",
        "outputId": "ba91af64-b023-42e5-d2fe-ac1c1badb224"
      },
      "outputs": [
        {
          "output_type": "stream",
          "name": "stdout",
          "text": [
            "Collecting en-core-web-sm==3.8.0\n",
            "  Downloading https://github.com/explosion/spacy-models/releases/download/en_core_web_sm-3.8.0/en_core_web_sm-3.8.0-py3-none-any.whl (12.8 MB)\n",
            "\u001b[2K     \u001b[90m━━━━━━━━━━━━━━━━━━━━━━━━━━━━━━━━━━━━━━━━\u001b[0m \u001b[32m12.8/12.8 MB\u001b[0m \u001b[31m96.9 MB/s\u001b[0m eta \u001b[36m0:00:00\u001b[0m\n",
            "\u001b[?25h\u001b[38;5;2m✔ Download and installation successful\u001b[0m\n",
            "You can now load the package via spacy.load('en_core_web_sm')\n",
            "\u001b[38;5;3m⚠ Restart to reload dependencies\u001b[0m\n",
            "If you are in a Jupyter or Colab notebook, you may need to restart Python in\n",
            "order to load all the package's dependencies. You can do this by selecting the\n",
            "'Restart kernel' or 'Restart runtime' option.\n"
          ]
        },
        {
          "output_type": "stream",
          "name": "stderr",
          "text": [
            "[nltk_data] Downloading package punkt to /root/nltk_data...\n",
            "[nltk_data]   Package punkt is already up-to-date!\n",
            "[nltk_data] Downloading package stopwords to /root/nltk_data...\n",
            "[nltk_data]   Package stopwords is already up-to-date!\n",
            "[nltk_data] Downloading package wordnet to /root/nltk_data...\n",
            "[nltk_data]   Package wordnet is already up-to-date!\n",
            "[nltk_data] Downloading package averaged_perceptron_tagger to\n",
            "[nltk_data]     /root/nltk_data...\n",
            "[nltk_data]   Package averaged_perceptron_tagger is already up-to-\n",
            "[nltk_data]       date!\n",
            "[nltk_data] Downloading package punkt_tab to /root/nltk_data...\n",
            "[nltk_data]   Package punkt_tab is already up-to-date!\n",
            "[nltk_data] Downloading package averaged_perceptron_tagger_eng to\n",
            "[nltk_data]     /root/nltk_data...\n",
            "[nltk_data]   Unzipping taggers/averaged_perceptron_tagger_eng.zip.\n"
          ]
        }
      ],
      "source": [
        "# Step 0: Install and Import Libraries\n",
        "!pip install nltk spacy --quiet\n",
        "!python -m spacy download en_core_web_sm\n",
        "\n",
        "import nltk\n",
        "nltk.download('punkt')\n",
        "nltk.download('stopwords')\n",
        "nltk.download('wordnet')\n",
        "nltk.download('averaged_perceptron_tagger')\n",
        "nltk.download('punkt_tab') # Add this line to download the missing resource\n",
        "nltk.download('averaged_perceptron_tagger_eng') # Download the missing resource\n",
        "\n",
        "import re\n",
        "import string\n",
        "import matplotlib.pyplot as plt\n",
        "from collections import Counter\n",
        "\n",
        "from nltk.tokenize import word_tokenize, sent_tokenize\n",
        "from nltk.corpus import stopwords\n",
        "from nltk.stem import PorterStemmer, WordNetLemmatizer\n",
        "import spacy\n",
        "from spacy import displacy"
      ]
    },
    {
      "cell_type": "code",
      "source": [
        "#sample paragraph\n",
        "text = \"\"\"\n",
        "In 2025, NASA launched a new rover mission to Mars to search for signs of ancient microbial life.\n",
        "The mission, named Ares Pathfinder, aims to collect rock samples and return them to Earth by 2033.\n",
        "The launch took place from Cape Canaveral and marked a historic milestone in space exploration.\n",
        "\"\"\"\n",
        "\n"
      ],
      "metadata": {
        "id": "oXFvpllURYxE"
      },
      "execution_count": 8,
      "outputs": []
    },
    {
      "cell_type": "code",
      "source": [
        "import re\n",
        "import string\n",
        "\n",
        "def clean_text(text):\n",
        "    text = text.lower()\n",
        "    text = re.sub(r'\\d+', '', text)\n",
        "    text = text.translate(str.maketrans('', '', string.punctuation))\n",
        "    text = re.sub(r'\\s+', ' ', text).strip()\n",
        "    return text\n",
        "\n",
        "cleaned_text = clean_text(text)\n",
        "print(\"Cleaned Text:\\n\", cleaned_text)"
      ],
      "metadata": {
        "colab": {
          "base_uri": "https://localhost:8080/"
        },
        "id": "aAG4b9UAReVw",
        "outputId": "a854c39e-b6ac-442f-ac3e-eb4bc1c445f2"
      },
      "execution_count": 9,
      "outputs": [
        {
          "output_type": "stream",
          "name": "stdout",
          "text": [
            "Cleaned Text:\n",
            " in nasa launched a new rover mission to mars to search for signs of ancient microbial life the mission named ares pathfinder aims to collect rock samples and return them to earth by the launch took place from cape canaveral and marked a historic milestone in space exploration\n"
          ]
        }
      ]
    },
    {
      "cell_type": "code",
      "source": [
        "sentences = sent_tokenize(cleaned_text)\n",
        "words = word_tokenize(cleaned_text)\n",
        "\n",
        "print(\"\\nTokenized Sentences:\\n\", sentences)\n",
        "print(\"\\nTokenized Words:\\n\", words)\n"
      ],
      "metadata": {
        "colab": {
          "base_uri": "https://localhost:8080/"
        },
        "id": "x3Hq7zbURh3t",
        "outputId": "f19a73c9-4b6e-41f6-a9a9-600bb4942e87"
      },
      "execution_count": 10,
      "outputs": [
        {
          "output_type": "stream",
          "name": "stdout",
          "text": [
            "\n",
            "Tokenized Sentences:\n",
            " ['in nasa launched a new rover mission to mars to search for signs of ancient microbial life the mission named ares pathfinder aims to collect rock samples and return them to earth by the launch took place from cape canaveral and marked a historic milestone in space exploration']\n",
            "\n",
            "Tokenized Words:\n",
            " ['in', 'nasa', 'launched', 'a', 'new', 'rover', 'mission', 'to', 'mars', 'to', 'search', 'for', 'signs', 'of', 'ancient', 'microbial', 'life', 'the', 'mission', 'named', 'ares', 'pathfinder', 'aims', 'to', 'collect', 'rock', 'samples', 'and', 'return', 'them', 'to', 'earth', 'by', 'the', 'launch', 'took', 'place', 'from', 'cape', 'canaveral', 'and', 'marked', 'a', 'historic', 'milestone', 'in', 'space', 'exploration']\n"
          ]
        }
      ]
    },
    {
      "cell_type": "code",
      "source": [
        "stop_words = set(stopwords.words('english'))\n",
        "\n",
        "words_filtered = [w for w in words if w not in stop_words]\n",
        "\n",
        "print(\"\\nAfter Stopword Removal:\\n\", words_filtered)\n",
        "print(f\"\\nWord count before: {len(words)} | After: {len(words_filtered)}\")\n",
        "print(f\"Unique words before: {len(set(words))} | After: {len(set(words_filtered))}\")\n"
      ],
      "metadata": {
        "colab": {
          "base_uri": "https://localhost:8080/"
        },
        "id": "z0LTHWrUR6su",
        "outputId": "15805039-3a09-4a81-80ed-b6e9440392f8"
      },
      "execution_count": 11,
      "outputs": [
        {
          "output_type": "stream",
          "name": "stdout",
          "text": [
            "\n",
            "After Stopword Removal:\n",
            " ['nasa', 'launched', 'new', 'rover', 'mission', 'mars', 'search', 'signs', 'ancient', 'microbial', 'life', 'mission', 'named', 'ares', 'pathfinder', 'aims', 'collect', 'rock', 'samples', 'return', 'earth', 'launch', 'took', 'place', 'cape', 'canaveral', 'marked', 'historic', 'milestone', 'space', 'exploration']\n",
            "\n",
            "Word count before: 48 | After: 31\n",
            "Unique words before: 40 | After: 30\n"
          ]
        }
      ]
    },
    {
      "cell_type": "code",
      "source": [
        "stemmer = PorterStemmer()\n",
        "lemmatizer = WordNetLemmatizer()\n",
        "\n",
        "sample_words = words_filtered[:10]\n",
        "\n",
        "print(\"\\nOriginal | Stemmed | Lemmatized\")\n",
        "print(\"----------------------------------\")\n",
        "for word in sample_words:\n",
        "    print(f\"{word:<10} | {stemmer.stem(word):<10} | {lemmatizer.lemmatize(word)}\")\n"
      ],
      "metadata": {
        "colab": {
          "base_uri": "https://localhost:8080/"
        },
        "id": "-dC245akR9q9",
        "outputId": "333f9dfb-03f5-483a-f685-475e4e50dde7"
      },
      "execution_count": 12,
      "outputs": [
        {
          "output_type": "stream",
          "name": "stdout",
          "text": [
            "\n",
            "Original | Stemmed | Lemmatized\n",
            "----------------------------------\n",
            "nasa       | nasa       | nasa\n",
            "launched   | launch     | launched\n",
            "new        | new        | new\n",
            "rover      | rover      | rover\n",
            "mission    | mission    | mission\n",
            "mars       | mar        | mar\n",
            "search     | search     | search\n",
            "signs      | sign       | sign\n",
            "ancient    | ancient    | ancient\n",
            "microbial  | microbi    | microbial\n"
          ]
        }
      ]
    },
    {
      "cell_type": "code",
      "source": [
        "# Add the download directory to NLTK's data path\n",
        "nltk.data.path.append('/content/nltk_data')\n",
        "\n",
        "pos_tags = nltk.pos_tag(words_filtered)\n",
        "\n",
        "# Count POS Tags\n",
        "tag_counts = Counter(tag for word, tag in pos_tags)\n",
        "\n",
        "# Display counts\n",
        "print(\"\\nPOS Tag Counts:\\n\", tag_counts)\n",
        "\n",
        "# Bar Plot\n",
        "plt.figure(figsize=(10, 5))\n",
        "plt.bar(tag_counts.keys(), tag_counts.values(), color='skyblue')\n",
        "plt.title(\"POS Tag Frequency\")\n",
        "plt.xlabel(\"POS Tag\")\n",
        "plt.ylabel(\"Frequency\")\n",
        "plt.xticks(rotation=45)\n",
        "plt.tight_layout()\n",
        "plt.show()"
      ],
      "metadata": {
        "colab": {
          "base_uri": "https://localhost:8080/",
          "height": 559
        },
        "id": "O2-WAGVkSBH_",
        "outputId": "13e0a978-56fb-454c-a636-fb74ca203855"
      },
      "execution_count": 15,
      "outputs": [
        {
          "output_type": "stream",
          "name": "stdout",
          "text": [
            "\n",
            "POS Tag Counts:\n",
            " Counter({'NN': 11, 'JJ': 6, 'NNS': 5, 'VBP': 4, 'VBN': 2, 'VBD': 2, 'RB': 1})\n"
          ]
        },
        {
          "output_type": "display_data",
          "data": {
            "text/plain": [
              "<Figure size 1000x500 with 1 Axes>"
            ],
            "image/png": "[encoded data removed]"
          },
          "metadata": {}
        }
      ]
    },
    {
      "cell_type": "code",
      "source": [
        "nlp = spacy.load(\"en_core_web_sm\")\n",
        "doc = nlp(text)\n",
        "\n",
        "print(\"\\nNamed Entities and Labels:\")\n",
        "for ent in doc.ents:\n",
        "    print(f\"{ent.text} → {ent.label_}\")\n",
        "\n",
        "# Visual NER\n",
        "displacy.render(doc, style=\"ent\", jupyter=True)\n"
      ],
      "metadata": {
        "colab": {
          "base_uri": "https://localhost:8080/",
          "height": 313
        },
        "id": "iGF01G8iSVP9",
        "outputId": "b138c1c0-89d6-4ca5-cb1c-cb0783b9e75c"
      },
      "execution_count": 16,
      "outputs": [
        {
          "output_type": "stream",
          "name": "stdout",
          "text": [
            "\n",
            "Named Entities and Labels:\n",
            "2025 → DATE\n",
            "NASA → ORG\n",
            "Mars → LOC\n",
            "Ares Pathfinder → PERSON\n",
            "Earth → LOC\n",
            "2033 → DATE\n",
            "Cape Canaveral → GPE\n"
          ]
        },
        {
          "output_type": "display_data",
          "data": {
            "text/plain": [
              "<IPython.core.display.HTML object>"
            ],
            "text/html": [
              "<span class=\"tex2jax_ignore\"><div class=\"entities\" style=\"line-height: 2.5; direction: ltr\"><br>In \n",
              "<mark class=\"entity\" style=\"background: #bfe1d9; padding: 0.45em 0.6em; margin: 0 0.25em; line-height: 1; border-radius: 0.35em;\">\n",
              "    2025\n",
              "    <span style=\"font-size: 0.8em; font-weight: bold; line-height: 1; border-radius: 0.35em; vertical-align: middle; margin-left: 0.5rem\">DATE</span>\n",
              "</mark>\n",
              ", \n",
              "<mark class=\"entity\" style=\"background: #7aecec; padding: 0.45em 0.6em; margin: 0 0.25em; line-height: 1; border-radius: 0.35em;\">\n",
              "    NASA\n",
              "    <span style=\"font-size: 0.8em; font-weight: bold; line-height: 1; border-radius: 0.35em; vertical-align: middle; margin-left: 0.5rem\">ORG</span>\n",
              "</mark>\n",
              " launched a new rover mission to \n",
              "<mark class=\"entity\" style=\"background: #ff9561; padding: 0.45em 0.6em; margin: 0 0.25em; line-height: 1; border-radius: 0.35em;\">\n",
              "    Mars\n",
              "    <span style=\"font-size: 0.8em; font-weight: bold; line-height: 1; border-radius: 0.35em; vertical-align: middle; margin-left: 0.5rem\">LOC</span>\n",
              "</mark>\n",
              " to search for signs of ancient microbial life. <br>The mission, named \n",
              "<mark class=\"entity\" style=\"background: #aa9cfc; padding: 0.45em 0.6em; margin: 0 0.25em; line-height: 1; border-radius: 0.35em;\">\n",
              "    Ares Pathfinder\n",
              "    <span style=\"font-size: 0.8em; font-weight: bold; line-height: 1; border-radius: 0.35em; vertical-align: middle; margin-left: 0.5rem\">PERSON</span>\n",
              "</mark>\n",
              ", aims to collect rock samples and return them to \n",
              "<mark class=\"entity\" style=\"background: #ff9561; padding: 0.45em 0.6em; margin: 0 0.25em; line-height: 1; border-radius: 0.35em;\">\n",
              "    Earth\n",
              "    <span style=\"font-size: 0.8em; font-weight: bold; line-height: 1; border-radius: 0.35em; vertical-align: middle; margin-left: 0.5rem\">LOC</span>\n",
              "</mark>\n",
              " by \n",
              "<mark class=\"entity\" style=\"background: #bfe1d9; padding: 0.45em 0.6em; margin: 0 0.25em; line-height: 1; border-radius: 0.35em;\">\n",
              "    2033\n",
              "    <span style=\"font-size: 0.8em; font-weight: bold; line-height: 1; border-radius: 0.35em; vertical-align: middle; margin-left: 0.5rem\">DATE</span>\n",
              "</mark>\n",
              ". <br>The launch took place from \n",
              "<mark class=\"entity\" style=\"background: #feca74; padding: 0.45em 0.6em; margin: 0 0.25em; line-height: 1; border-radius: 0.35em;\">\n",
              "    Cape Canaveral\n",
              "    <span style=\"font-size: 0.8em; font-weight: bold; line-height: 1; border-radius: 0.35em; vertical-align: middle; margin-left: 0.5rem\">GPE</span>\n",
              "</mark>\n",
              " and marked a historic milestone in space exploration.<br></div></span>"
            ]
          },
          "metadata": {}
        }
      ]
    }
  ]
}